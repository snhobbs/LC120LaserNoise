{
 "cells": [
  {
   "cell_type": "code",
   "execution_count": null,
   "id": "0",
   "metadata": {},
   "outputs": [],
   "source": [
    "import sys\n",
    "from pathlib import Path\n",
    "import pandas as pd\n",
    "from lc120_noise import common\n",
    "from dataclasses import dataclass, asdict\n",
    "import numpy as np\n",
    "from typing import List"
   ]
  },
  {
   "cell_type": "code",
   "execution_count": null,
   "id": "1",
   "metadata": {},
   "outputs": [],
   "source": [
    "def calc_rms_noise(voltages, dt):\n",
    "    # Remove DC offset\n",
    "    ac_signal = voltages - np.mean(voltages)\n",
    "    \n",
    "    # Integrate power = ∫ v(t)^2 dt\n",
    "    noise_energy = np.sum(ac_signal**2) * dt\n",
    "    \n",
    "    # RMS noise = sqrt(energy / time)\n",
    "    rms_noise = np.sqrt(noise_energy / (dt * len(voltages)))\n",
    "    return rms_noise"
   ]
  },
  {
   "cell_type": "code",
   "execution_count": null,
   "id": "2",
   "metadata": {},
   "outputs": [],
   "source": [
    "@dataclass\n",
    "class RunLine:\n",
    "    trace: List[float] # average the traces to a single trace\n",
    "    current: float\n",
    "    temp: float\n",
    "    rms_noise: float\n",
    "\n",
    "fstructure = common.FileStructure(Path(\"./data/demo\"))\n",
    "runs = fstructure.get_all_runs()\n",
    "d = []\n",
    "    \n",
    "for run in runs:\n",
    "    trace, header = run.load_scope_traces()[0]\n",
    "    dt = float(header[\":WAV:XINC?\"])\n",
    "    line = RunLine(trace=trace, temp=run.temp, current=run.current*1000, \n",
    "                   rms_noise=calc_rms_noise(trace, dt))\n",
    "    d.append(asdict(line))\n",
    "df = pd.DataFrame(d)"
   ]
  },
  {
   "cell_type": "code",
   "execution_count": null,
   "id": "3",
   "metadata": {},
   "outputs": [],
   "source": [
    "import matplotlib.pyplot as plt\n",
    "\n",
    "pivot = df.pivot(index='temp', columns='current', values='rms_noise')\n",
    "fig, ax = plt.subplots(figsize=(10, 6))\n",
    "\n",
    "# Use imshow or pcolormesh\n",
    "res = ax.pcolormesh(pivot.columns, pivot.index, pivot.values, shading='auto', cmap='viridis')\n",
    "fig.colorbar(mappable=res, ax=ax, label='RMS Voltage (V)')\n",
    "ax.set_xlabel('Current (mA)')\n",
    "ax.set_ylabel('Temperature (°C)')\n",
    "ax.set_title('RMS Voltage vs. Current and Temperature')\n",
    "fig.tight_layout()\n",
    "fig.savefig(\"random-data-heat-map.svg\")\n",
    "plt.show()"
   ]
  },
  {
   "cell_type": "code",
   "execution_count": null,
   "id": "4",
   "metadata": {},
   "outputs": [],
   "source": [
    "fig, ax = plt.subplots(figsize=(10, 6))\n",
    "ax.plot(df[\"current\"], df[\"rms_noise\"], ',')\n",
    "ax.set_xlabel('Current (mA)')\n",
    "ax.set_ylabel('RMS Voltage (V)')\n",
    "ax.set_title('RMS Voltage vs. Current')\n",
    "fig.tight_layout()\n",
    "fig.savefig(\"current-noise.svg\")\n",
    "plt.show()\n",
    "\n",
    "\n",
    "fig, ax = plt.subplots(figsize=(10, 6))\n",
    "ax.plot(df[\"current\"], df[\"rms_noise\"], ',')\n",
    "ax.set_xlabel('Temperature (°C)')\n",
    "ax.set_ylabel('RMS Voltage (V)')\n",
    "ax.set_title('RMS Voltage vs. Temperature')\n",
    "fig.tight_layout()\n",
    "fig.savefig(\"temperature-noise.svg\")\n",
    "plt.show()"
   ]
  },
  {
   "cell_type": "code",
   "execution_count": null,
   "id": "5",
   "metadata": {},
   "outputs": [],
   "source": []
  }
 ],
 "metadata": {
  "kernelspec": {
   "display_name": "Python 3 (ipykernel)",
   "language": "python",
   "name": "python3"
  },
  "language_info": {
   "codemirror_mode": {
    "name": "ipython",
    "version": 3
   },
   "file_extension": ".py",
   "mimetype": "text/x-python",
   "name": "python",
   "nbconvert_exporter": "python",
   "pygments_lexer": "ipython3",
   "version": "3.12.2"
  }
 },
 "nbformat": 4,
 "nbformat_minor": 5
}
