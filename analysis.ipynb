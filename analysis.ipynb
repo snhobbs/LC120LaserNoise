{
 "cells": [
  {
   "cell_type": "code",
   "execution_count": null,
   "id": "0",
   "metadata": {},
   "outputs": [],
   "source": [
    "import sys\n",
    "from pathlib import Path\n",
    "import pandas as pd\n",
    "from lc120_noise import common\n",
    "from dataclasses import dataclass, asdict\n",
    "import numpy as np\n",
    "from typing import List"
   ]
  },
  {
   "cell_type": "code",
   "execution_count": null,
   "id": "1",
   "metadata": {},
   "outputs": [],
   "source": [
    "def calc_rms_noise(voltages, dt):\n",
    "    # Remove DC offset (mean subtraction)\n",
    "    ac_signal = voltages - np.mean(voltages)\n",
    "    \n",
    "    # Integrate power = ∫ v(t)^2 dt\n",
    "    noise_energy = np.sum(ac_signal**2) * dt\n",
    "    \n",
    "    # RMS noise = sqrt(energy / total time)\n",
    "    rms_noise = np.sqrt(noise_energy / (dt * len(voltages)))\n",
    "    return rms_noise"
   ]
  },
  {
   "cell_type": "code",
   "execution_count": null,
   "id": "2",
   "metadata": {},
   "outputs": [],
   "source": [
    "@dataclass\n",
    "class RunLine:\n",
    "    trace: List[float] # average the traces to a single trace\n",
    "    current: float\n",
    "    temp: float\n",
    "    rms_noise: float\n",
    "\n",
    "fstructure = common.FileStructure(Path(\"./data/demo\"))\n",
    "runs = fstructure.get_all_runs()\n",
    "for run in runs:\n",
    "    traces = run.load_scope_traces()\n",
    "d = []\n",
    "    \n",
    "for run in runs:\n",
    "    trace, header = run.load_scope_traces()[0]\n",
    "    dt = float(header[\":WAV:XINC?\"])\n",
    "    line = RunLine(trace=trace, temp=run.temp, current=run.current, \n",
    "                   rms_noise=calc_rms_noise(trace, dt))\n",
    "    d.append(asdict(line))\n",
    "df = pd.DataFrame(d)\n"
   ]
  },
  {
   "cell_type": "code",
   "execution_count": null,
   "id": "3",
   "metadata": {},
   "outputs": [],
   "source": [
    "import matplotlib.pyplot as plt\n",
    "\n",
    "pivot = df.pivot(index='temp', columns='current', values='rms_noise')\n",
    "plt.figure(figsize=(8, 6))\n",
    "\n",
    "# Use imshow or pcolormesh\n",
    "plt.pcolormesh(pivot.columns, pivot.index, pivot.values, shading='auto', cmap='viridis')\n",
    "plt.colorbar(label='RMS Voltage (V)')\n",
    "plt.xlabel('Current (mA)')\n",
    "plt.ylabel('Temperature (°C)')\n",
    "plt.title('RMS Voltage vs. Current and Temperature')\n",
    "plt.tight_layout()\n",
    "plt.show()"
   ]
  },
  {
   "cell_type": "code",
   "execution_count": null,
   "id": "4",
   "metadata": {},
   "outputs": [],
   "source": []
  }
 ],
 "metadata": {
  "kernelspec": {
   "display_name": "Python 3 (ipykernel)",
   "language": "python",
   "name": "python3"
  },
  "language_info": {
   "codemirror_mode": {
    "name": "ipython",
    "version": 3
   },
   "file_extension": ".py",
   "mimetype": "text/x-python",
   "name": "python",
   "nbconvert_exporter": "python",
   "pygments_lexer": "ipython3",
   "version": "3.12.2"
  }
 },
 "nbformat": 4,
 "nbformat_minor": 5
}
